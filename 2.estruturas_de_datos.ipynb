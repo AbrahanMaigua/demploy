{
 "cells": [
  {
   "cell_type": "markdown",
   "metadata": {},
   "source": [
    "En este capítulo utilizaremos un editor de código como te habrás notado que al cerrar la terminal de python toda la información es eliminada esto se debe porque la información no está guardada en un archivo.\n",
    " \n",
    "el código que escribas debe ser guardado en un archivo con la extensión .py si es un archivo y si es un archivo que será leído en un júpiter notebook debe tener la extensión .ipynb\n",
    "\n"
   ]
  },
  {
   "cell_type": "markdown",
   "metadata": {},
   "source": [
    "### Estruturas de datos \n",
    "\n",
    "las extruturas de  datos son formas en las que se ordena la infoamcion que iras utilizado ejemplo:\n",
    "\n",
    "una lista de la compras \n",
    "1. zanaoria\n",
    "2. papa\n",
    "3. pollo\n",
    "ect\n",
    "\n",
    "sigue un orden secuncial en cambio una agenda telefonica tendria otra forma de representar gurdar la infomacion\n",
    "```\n",
    "nombre: numero\n",
    "juan:  00000000\n",
    "pedro: 00000000\n",
    "kenvin: 00000000 \n",
    "```\n",
    "este seguiria la fomarma de un pares un nombre y un numero esto son estruturas basica que puede ser tan conplejas como se te ocuraa pero por los mento vamos a ver las ``listas`` \n",
    "\n"
   ]
  },
  {
   "cell_type": "markdown",
   "metadata": {},
   "source": [
    "### listas\n",
    " \n",
    "las listas permiten guardar varios valores en una variable separados por comas llamados ítem cada ítem las listas permiten guardar diferentes tipos de datos, en un misma lista\n",
    " \n",
    "para evitar errores de sintaxi normalizamos las lista que sean de un solo tipo"
   ]
  },
  {
   "cell_type": "code",
   "execution_count": 136,
   "metadata": {},
   "outputs": [
    {
     "name": "stdout",
     "output_type": "stream",
     "text": [
      "['zanaoria', 'Papa', 'pollo']\n"
     ]
    }
   ],
   "source": [
    "# una lista debe estar declada entre conchetes []\n",
    "\n",
    "compra = ['zanaoria', 'Papa', \"pollo\"]\n",
    "print(compra)"
   ]
  },
  {
   "cell_type": "markdown",
   "metadata": {},
   "source": [
    "para aceder a un valor de la lista se utilizan inidices y rangos los indice son identidicaores que tiene cada valor se empiezan a contar dede 0, por ejomplo:\n",
    "\n",
    "0. zanaoria\n",
    "1. papa\n",
    "2. pollo\n",
    "\n",
    "tendra tantos indice como elementos tenga la lista.\n",
    " "
   ]
  },
  {
   "cell_type": "code",
   "execution_count": 138,
   "metadata": {},
   "outputs": [
    {
     "name": "stdout",
     "output_type": "stream",
     "text": [
      "zanaoria\n",
      "Papa\n",
      "pollo\n"
     ]
    }
   ],
   "source": [
    "print(compra[0])\n",
    "print(compra[1])\n",
    "print(compra[2])\n"
   ]
  },
  {
   "cell_type": "markdown",
   "metadata": {},
   "source": [
    "si deseamos aceder a mas de un valor utilizamos rangos"
   ]
  },
  {
   "cell_type": "code",
   "execution_count": 142,
   "metadata": {},
   "outputs": [
    {
     "name": "stdout",
     "output_type": "stream",
     "text": [
      "['zanaoria', 'Papa', 'pollo']\n",
      "['zanaoria', 'Papa', 'pollo']\n",
      "['Papa', 'pollo']\n"
     ]
    }
   ],
   "source": [
    "print(compra[0:3]) # enmpezaria desde el primer elemento hasta el ultimo\n",
    "print(compra[:3]) # esto seria lo mismo que la anterio linea\n",
    "print(compra[1:])\n",
    "\n"
   ]
  },
  {
   "cell_type": "markdown",
   "metadata": {},
   "source": [
    "### tuplas\n",
    "\n",
    "son iguales a las listas lo unico es que son inmutables esto quiere decir que como entran los datos salen"
   ]
  },
  {
   "cell_type": "code",
   "execution_count": 131,
   "metadata": {},
   "outputs": [
    {
     "data": {
      "text/plain": [
       "(200, 10, 30)"
      ]
     },
     "execution_count": 131,
     "metadata": {},
     "output_type": "execute_result"
    }
   ],
   "source": [
    "salas = (200, 10, 30)\n",
    "salas"
   ]
  },
  {
   "cell_type": "markdown",
   "metadata": {},
   "source": [
    "### set\n",
    " \n",
    "esta estructura de datos es igual que una lista lo único es que no habrá datos repetidos en ella solo datos únicos"
   ]
  },
  {
   "cell_type": "code",
   "execution_count": 130,
   "metadata": {},
   "outputs": [
    {
     "data": {
      "text/plain": [
       "{1, 2, 3, 4, 5, 6, 7, 8, 9, 10}"
      ]
     },
     "execution_count": 130,
     "metadata": {},
     "output_type": "execute_result"
    }
   ],
   "source": [
    "numeros = {1, 1, 2, 3,4, 5,1, 6,1,7,8,4,9,10}\n",
    "numeros\n"
   ]
  },
  {
   "cell_type": "markdown",
   "metadata": {},
   "source": [
    "### Diccionarios.\n",
    " \n",
    "al igual que en el ejemplo del principio los diccionarios se realizaciona una identificador con un valor en el caso de una agenda telefónica el el identificador sería el nombre y el valor seria el numero de telefono"
   ]
  },
  {
   "cell_type": "code",
   "execution_count": 133,
   "metadata": {},
   "outputs": [
    {
     "data": {
      "text/plain": [
       "{'pedro': 10.4,\n",
       " 'salas': (200, 10, 30),\n",
       " 'numeros': {1, 2, 3, 4, 5, 6, 7, 8, 9, 10},\n",
       " 'compras': [0, 10, 12]}"
      ]
     },
     "execution_count": 133,
     "metadata": {},
     "output_type": "execute_result"
    }
   ],
   "source": [
    "agenda = {\n",
    "  'pedro': 10.4,\n",
    "  'salas': salas,\n",
    "  \"numeros\": numeros,\n",
    "  'compras': compra,\n",
    "\n",
    "}\n",
    "\n",
    "agenda "
   ]
  },
  {
   "cell_type": "markdown",
   "metadata": {},
   "source": [
    "### Conversiones.\n",
    " \n",
    "Python tiene funciones definidas que te permiten convertir una estructura de datos a otra, estas funciones se les llama por el mismo nombre de estructura de datos.\n",
    " \n",
    "\n"
   ]
  },
  {
   "cell_type": "code",
   "execution_count": 134,
   "metadata": {},
   "outputs": [
    {
     "name": "stdout",
     "output_type": "stream",
     "text": [
      "[] () set() {}\n"
     ]
    }
   ],
   "source": [
    "l = list()\n",
    "t = tuple()\n",
    "s = set()\n",
    "d = dict()\n",
    "\n",
    "print(l, t, s, d)"
   ]
  },
  {
   "cell_type": "markdown",
   "metadata": {},
   "source": [
    "### El fin.\n",
    " \n",
    "El próximo capítulo tratará sobre estructuras de control de flujo, condicionales y operadores lógicos y unas cuantas más funciones definidas.\n"
   ]
  }
 ],
 "metadata": {
  "kernelspec": {
   "display_name": "Python 3.10.4 ('guide-python': venv)",
   "language": "python",
   "name": "python3"
  },
  "language_info": {
   "name": "python",
   "version": "3.10.4"
  },
  "orig_nbformat": 4,
  "vscode": {
   "interpreter": {
    "hash": "4cef3285d61689ac21801982ecdcb899f3ba92e7580a2a60b3fd35f39c91423d"
   }
  }
 },
 "nbformat": 4,
 "nbformat_minor": 2
}
